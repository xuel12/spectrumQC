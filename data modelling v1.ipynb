{
 "cells": [
  {
   "cell_type": "code",
   "execution_count": 1,
   "metadata": {},
   "outputs": [],
   "source": [
    "import os\n",
    "import sys\n",
    "import re\n",
    "import numpy as np\n",
    "import pandas as pd\n",
    "import pyteomics\n",
    "from pyteomics import tandem\n",
    "from sklearn.ensemble import RandomForestClassifier\n",
    "from sklearn import metrics\n",
    "from sklearn.metrics import roc_auc_score, roc_curve, auc\n",
    "from sklearn.model_selection import StratifiedKFold, GridSearchCV, train_test_split\n",
    "import argparse\n",
    "from pyteomics import mzml, auxiliary\n",
    "from matplotlib import pyplot as plt\n",
    "import pickle"
   ]
  },
  {
   "cell_type": "code",
   "execution_count": 2,
   "metadata": {},
   "outputs": [
    {
     "name": "stdout",
     "output_type": "stream",
     "text": [
      "Current directory is F:\\DS5500_project_1\n"
     ]
    }
   ],
   "source": [
    "try:\n",
    "    os.chdir('F://DS5500_project_1')\n",
    "    print(\"Current directory is {}\".format(os.getcwd()))\n",
    "except: \n",
    "    print(\"Something wrong with specified directory. Exception- \", sys.exc_info())\n",
    "\n",
    "datadir = os.getcwd()\n",
    "j = 0\n",
    "exist_spectrum_dict = {}\n",
    "speclist = []\n",
    "bin_size = 10\n",
    "for filename in os.listdir(datadir): #iterate through all mzML file\n",
    "    if (re.search('\\\\.mzML$', filename)):\n",
    "        with mzml.read(os.path.join(datadir, filename), 'r') as reader:\n",
    "            for spec in reader:\n",
    "                if (spec['ms level'] == 2):\n",
    "                    tmp_id = [int(spec['id'].split('=')[3])]*len(spec['m/z array'])\n",
    "                    speclist.append(np.column_stack((tmp_id, spec['m/z array'],spec['intensity array'])))\n",
    "            \n",
    "            spectrum_np = np.concatenate(speclist, axis=0)\n",
    "            spectrum_df = pd.DataFrame({'specid':spectrum_np[:,0], 'location':spectrum_np[:,1],'intensity':spectrum_np[:,2]})            \n",
    "            spectrum_df = spectrum_df.assign(interval=spectrum_df['location']//bin_size)\n",
    "            spectrum_df = spectrum_df.groupby(['specid','interval'])['intensity'].sum()\n",
    "            spectrum_df = spectrum_df.reset_index()\n",
    "            convert_dict = {'specid': int, 'interval': int} \n",
    "            exist_spectrum_dict[j] = spectrum_df.astype(convert_dict)\n",
    "            j+=1\n",
    "\n",
    "interval_upper_bound = 2000//bin_size\n",
    "interval_lower_bound = 0\n",
    "spectrum_range_feature_set = set(range(interval_lower_bound,interval_upper_bound,1)) #this set contains the finalized feature intervals\n",
    "\n",
    "#transform all readings into standard data frame with the same features(spectrum intervals)\n",
    "complemented_spectrum_dict = {}\n",
    "complemented_spectrum_list = []\n",
    "total_spectrum_dict = {}\n",
    "for key_1 in exist_spectrum_dict.keys():\n",
    "    spectrum_dict = exist_spectrum_dict[key_1]\n",
    "    for key_2 in set(spectrum_dict.specid):\n",
    "        spectrum_df = spectrum_dict[spectrum_dict.specid.eq(key_2)]\n",
    "        add_interval_set = spectrum_range_feature_set-set(spectrum_df.interval)\n",
    "        complemented_spectrum_list.append(np.column_stack(([key_2]*len(add_interval_set), list(add_interval_set), [float(0)]*len(add_interval_set))))\n",
    "    complemented_spectrum_np = np.concatenate(complemented_spectrum_list, axis=0)\n",
    "    spectrum_df = pd.DataFrame({'specid':complemented_spectrum_np[:,0], 'interval':complemented_spectrum_np[:,1],'intensity':complemented_spectrum_np[:,2]})            \n",
    "    convert_dict = {'specid': int, 'interval': int} \n",
    "    complemented_spectrum_dict[key_1] = spectrum_df.astype(convert_dict)    \n",
    "\n",
    "    total_spectrum_dict[key_1] = pd.concat([exist_spectrum_dict[key_1], complemented_spectrum_dict[key_1]]).sort_values(by=['specid','interval'])\n",
    "\n",
    "for key_1 in total_spectrum_dict.keys():\n",
    "    spectrum_dict = total_spectrum_dict[key_1]\n",
    "    count_df = spectrum_dict[['specid','interval']].groupby(['specid']).count()\n",
    "    if (len(count_df[count_df.interval != len(spectrum_range_feature_set)]) > 0):\n",
    "        print('there is incorrect data frame in ', key_1)\n",
    "\n",
    "f = open(\"spec_dict.pkl\",\"wb\")\n",
    "pickle.dump(spectrum_dict,f)\n",
    "f.close()\n",
    "\n",
    "mzML_file_names = []\n",
    "for filename in os.listdir(datadir):\n",
    "    if (re.search('\\\\.mzML$', filename)):\n",
    "        mzML_file_names.append(filename)"
   ]
  },
  {
   "cell_type": "code",
   "execution_count": 4,
   "metadata": {},
   "outputs": [],
   "source": [
    "evidence = pd.read_csv('evidence_csv.csv')\n",
    "evidence = evidence.rename(columns={\"Raw file\": \"mzML_name\"})\n",
    "# positive_label = pd.read_csv('positive_label.csv')\n",
    "positive_label = evidence[evidence['mzML_name']=='01625b_GA1-TUM_first_pool_1_01_01-DDA-1h-R2']\n",
    "positive_label = positive_label['MS/MS scan number'].to_list()\n",
    "spec_df = total_spectrum_dict[0]\n",
    "spec_df_ready = spec_df.pivot(index='specid',columns='interval',values='intensity')\n",
    "spec_df_ready = spec_df_ready.reset_index()\n",
    "spec_df_ready['label'] =spec_df_ready['specid'].isin(positive_label)"
   ]
  },
  {
   "cell_type": "code",
   "execution_count": 10,
   "metadata": {},
   "outputs": [
    {
     "name": "stdout",
     "output_type": "stream",
     "text": [
      "parameters of optimal model are {'min_samples_leaf': 2, 'min_samples_split': 5, 'n_estimators': 50}\n",
      "top 10% important features are:     interval         0\n",
      "0         17  0.022978\n",
      "1         22  0.019349\n",
      "2         28  0.016552\n",
      "3         43  0.016469\n",
      "4         21  0.016408\n",
      "5         27  0.016052\n",
      "6         19  0.016007\n",
      "7         64  0.015645\n",
      "8         12  0.015536\n",
      "9         36  0.015149\n",
      "10        41  0.015034\n",
      "11        14  0.014825\n",
      "12        20  0.014414\n",
      "13        24  0.014388\n",
      "14        15  0.014387\n",
      "15        37  0.013869\n",
      "16        34  0.013829\n",
      "17        11  0.013710\n",
      "18        38  0.013587\n",
      "19        60  0.013478\n",
      "AUC score of optimal model is: 0.8376926606045945\n"
     ]
    }
   ],
   "source": [
    "X_train, X_test, y_train, y_test = train_test_split(spec_df_ready.iloc[:, 1:201], spec_df_ready.iloc[:,201], test_size=0.2, random_state=42)\n",
    "clf = RandomForestClassifier()\n",
    "param_grid = { \"min_samples_leaf\" : [2, 5, 10], \"min_samples_split\" : [5, 10, 25], \"n_estimators\": [50, 100, 200]}\n",
    "gs = GridSearchCV(estimator=clf, param_grid=param_grid, scoring='f1', cv=3, n_jobs=-1) #hyper-parameter tuning by grid search cross validation\n",
    "gs = gs.fit(X_train, y_train)\n",
    "\n",
    "clf_opt = gs.best_estimator_\n",
    "clf_opt.fit(X_train,y_train)\n",
    "feature_scores = pd.Series(clf_opt.feature_importances_, index=X_train.columns).sort_values(ascending=False)\n",
    "feature_scores_df = pd.Series(clf_opt.feature_importances_, index=X_train.columns).sort_values(ascending=False).reset_index()\n",
    "print('parameters of optimal model are',gs.best_params_)\n",
    "print('top 10% important features are:',feature_scores_df.head(round(feature_scores_df.shape[0]*0.1)))\n",
    "print('AUC score of optimal model is:',roc_auc_score(y_test, clf_opt.predict_proba(X_test)[:, 1]))"
   ]
  },
  {
   "cell_type": "code",
   "execution_count": 12,
   "metadata": {},
   "outputs": [
    {
     "data": {
      "image/png": "[encoded data removed]",
      "text/plain": [
       "<Figure size 432x288 with 1 Axes>"
      ]
     },
     "metadata": {
      "needs_background": "light"
     },
     "output_type": "display_data"
    }
   ],
   "source": [
    "fig = plt.figure()\n",
    "ax = fig.add_axes([0,0,1,1])\n",
    "ax.bar(feature_scores.index,feature_scores)\n",
    "plt.ylabel('importance score')\n",
    "plt.xlabel('mz location')\n",
    "plt.title('feature importance distribution')\n",
    "plt.show()"
   ]
  },
  {
   "cell_type": "code",
   "execution_count": 13,
   "metadata": {},
   "outputs": [
    {
     "data": {
      "image/png": "[encoded data removed]",
      "text/plain": [
       "<Figure size 432x288 with 1 Axes>"
      ]
     },
     "metadata": {
      "needs_background": "light"
     },
     "output_type": "display_data"
    }
   ],
   "source": [
    "fpr, tpr, thresholds = roc_curve(y_test, clf_opt.predict_proba(X_test)[:, 1])\n",
    "plt.plot(fpr, tpr,'r')\n",
    "plt.plot([0,1],[0,1],'b')\n",
    "plt.title('AUC: {}'.format(auc(fpr,tpr)))\n",
    "plt.show()"
   ]
  },
  {
   "cell_type": "code",
   "execution_count": null,
   "metadata": {},
   "outputs": [],
   "source": []
  }
 ],
 "metadata": {
  "kernelspec": {
   "display_name": "Python 3",
   "language": "python",
   "name": "python3"
  },
  "language_info": {
   "codemirror_mode": {
    "name": "ipython",
    "version": 3
   },
   "file_extension": ".py",
   "mimetype": "text/x-python",
   "name": "python",
   "nbconvert_exporter": "python",
   "pygments_lexer": "ipython3",
   "version": "3.7.7"
  }
 },
 "nbformat": 4,
 "nbformat_minor": 2
}
